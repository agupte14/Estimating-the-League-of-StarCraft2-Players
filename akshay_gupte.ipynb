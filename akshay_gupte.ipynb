{
 "cells": [
  {
   "cell_type": "markdown",
   "metadata": {},
   "source": [
    "# Estimating the League of Starcraft 2 Players\n",
    "\n",
    "## Overview:\n",
    "Starcraft II is a popular military science fiction real-time strategy video game published by Blizzard Entertainment. In its multiplayer ranked game, two players compete against one another in an online match for tactical and strategic dominance. Players are placed into one of seven possible leagues depending on their skill level. Given the required data of a Starcraft II match, the goal is to predict the league of its players.\n",
    "Our target is the league and all the other columns represent the features used to predict the said target.\n",
    "\n",
    "## Project Team:\n",
    "\n",
    "### Akshay Gupte A20360699\n",
    "### Arshad Shaik A20328656"
   ]
  },
  {
   "cell_type": "markdown",
   "metadata": {},
   "source": [
    "## LOADING DATA (Preprocessed Version):"
   ]
  },
  {
   "cell_type": "code",
   "execution_count": 32,
   "metadata": {
    "collapsed": true
   },
   "outputs": [],
   "source": [
    "import numpy as np\n",
    "import pandas as pd\n",
    "\n",
    "df = pd.read_csv('./data/data-ml.csv')"
   ]
  },
  {
   "cell_type": "markdown",
   "metadata": {},
   "source": [
    "## PRINTING DATA SHAPE:"
   ]
  },
  {
   "cell_type": "code",
   "execution_count": 33,
   "metadata": {
    "collapsed": false
   },
   "outputs": [
    {
     "name": "stdout",
     "output_type": "stream",
     "text": [
      "(5339, 12)\n"
     ]
    }
   ],
   "source": [
    "Data = df.values\n",
    "X = Data[:,1:13]\n",
    "Y = Data[:,0]\n",
    "print(X.shape)"
   ]
  },
  {
   "cell_type": "markdown",
   "metadata": {},
   "source": [
    "### Scaling Input"
   ]
  },
  {
   "cell_type": "code",
   "execution_count": 34,
   "metadata": {
    "collapsed": false
   },
   "outputs": [
    {
     "name": "stdout",
     "output_type": "stream",
     "text": [
      "-1.28649181102e-17\n",
      "1.0\n"
     ]
    }
   ],
   "source": [
    "from sklearn.preprocessing import scale\n",
    "X_scale = scale(X)\n",
    "print(X_scale.mean())\n",
    "print(X_scale.std())"
   ]
  },
  {
   "cell_type": "markdown",
   "metadata": {},
   "source": [
    "## PERFORMANCE:\n",
    "\n",
    "### Log - Loss"
   ]
  },
  {
   "cell_type": "markdown",
   "metadata": {},
   "source": [
    "### CLASSIFICATION BASE LINE:\n",
    "#### Total Instances = 5339\n",
    "#### Prob. for League 1 = 0.026\n",
    "#### Prob. for League 2 = 0.076\n",
    "#### Prob. for League 3 = 0.100\n",
    "#### Prob. for League 4 = 0.136\n",
    "#### Prob. for League 5 = 0.227\n",
    "#### Prob. for League 6 = 0.361\n",
    "#### Prob. for League 7 = 0.073"
   ]
  },
  {
   "cell_type": "markdown",
   "metadata": {},
   "source": [
    "### Naive Bayes Evaluation:"
   ]
  },
  {
   "cell_type": "code",
   "execution_count": 35,
   "metadata": {
    "collapsed": false
   },
   "outputs": [
    {
     "name": "stdout",
     "output_type": "stream",
     "text": [
      "1.75173698171\n",
      "0.100518898061\n"
     ]
    }
   ],
   "source": [
    "from sklearn.naive_bayes import GaussianNB\n",
    "from sklearn.model_selection import cross_val_score\n",
    "\n",
    "model_evaluate = GaussianNB()\n",
    "\n",
    "scoring = cross_val_score(model_evaluate, X_scale, Y, scoring = 'neg_log_loss')\n",
    "\n",
    "print((scoring.mean())*-1)\n",
    "print(scoring.std())"
   ]
  },
  {
   "cell_type": "markdown",
   "metadata": {},
   "source": [
    "### Logistic Regression Evaluation:"
   ]
  },
  {
   "cell_type": "code",
   "execution_count": 36,
   "metadata": {
    "collapsed": false
   },
   "outputs": [
    {
     "name": "stdout",
     "output_type": "stream",
     "text": [
      "1.32161034857\n",
      "0.0253107449423\n"
     ]
    }
   ],
   "source": [
    "from sklearn.linear_model import LogisticRegression\n",
    "from sklearn.model_selection import cross_val_score\n",
    "\n",
    "model_evaluate = LogisticRegression(solver='lbfgs',multi_class='multinomial')\n",
    "\n",
    "scoring = cross_val_score(model_evaluate, X_scale, Y, scoring = 'neg_log_loss')\n",
    "\n",
    "print((scoring.mean())*-1)\n",
    "print(scoring.std())"
   ]
  },
  {
   "cell_type": "markdown",
   "metadata": {},
   "source": [
    "### Decision Tree Evaluation:"
   ]
  },
  {
   "cell_type": "code",
   "execution_count": 37,
   "metadata": {
    "collapsed": false
   },
   "outputs": [
    {
     "name": "stdout",
     "output_type": "stream",
     "text": [
      "1.88986911811\n",
      "0.188658239094\n"
     ]
    }
   ],
   "source": [
    "from sklearn.tree import DecisionTreeClassifier\n",
    "from sklearn.model_selection import cross_val_score\n",
    "\n",
    "model_evaluate = DecisionTreeClassifier(criterion='entropy',max_depth=5, max_features= 5)\n",
    "\n",
    "scoring = cross_val_score(model_evaluate, X_scale, Y, scoring = 'neg_log_loss')\n",
    "\n",
    "print((scoring.mean())*-1)\n",
    "print(scoring.std())"
   ]
  },
  {
   "cell_type": "markdown",
   "metadata": {},
   "source": [
    "### Neural Network Evaluation:"
   ]
  },
  {
   "cell_type": "code",
   "execution_count": 38,
   "metadata": {
    "collapsed": false
   },
   "outputs": [
    {
     "name": "stdout",
     "output_type": "stream",
     "text": [
      "1.34593909381\n",
      "0.0229529108908\n"
     ]
    }
   ],
   "source": [
    "from sklearn.neural_network import MLPClassifier\n",
    "from sklearn.model_selection import cross_val_score\n",
    "\n",
    "model_evaluate = MLPClassifier(hidden_layer_sizes=(8,4), alpha= 1e-05, max_iter= 1000, solver= 'sgd')\n",
    "\n",
    "scoring = cross_val_score(model_evaluate, X_scale, Y, scoring = 'neg_log_loss')\n",
    "\n",
    "print((scoring.mean())*-1)\n",
    "print(scoring.std())"
   ]
  },
  {
   "cell_type": "markdown",
   "metadata": {},
   "source": [
    "### Support Vector Machine Evaluation:"
   ]
  },
  {
   "cell_type": "markdown",
   "metadata": {},
   "source": [
    "#### 1. SVC"
   ]
  },
  {
   "cell_type": "code",
   "execution_count": 39,
   "metadata": {
    "collapsed": false
   },
   "outputs": [
    {
     "name": "stdout",
     "output_type": "stream",
     "text": [
      "1.34113349899\n",
      "0.0230110376608\n"
     ]
    }
   ],
   "source": [
    "from sklearn.svm import SVC\n",
    "from sklearn.model_selection import cross_val_score\n",
    "\n",
    "model_evaluate = SVC(probability= True)\n",
    "\n",
    "scoring = cross_val_score(model_evaluate, X_scale, Y, scoring = 'neg_log_loss')\n",
    "\n",
    "print((scoring.mean())*-1)\n",
    "print(scoring.std())"
   ]
  },
  {
   "cell_type": "markdown",
   "metadata": {},
   "source": [
    "#### 2. NuSVC"
   ]
  },
  {
   "cell_type": "code",
   "execution_count": 40,
   "metadata": {
    "collapsed": false
   },
   "outputs": [
    {
     "name": "stdout",
     "output_type": "stream",
     "text": [
      "1.41552524336\n",
      "0.0203313963486\n"
     ]
    }
   ],
   "source": [
    "from sklearn.svm import NuSVC\n",
    "from sklearn.model_selection import cross_val_score\n",
    "\n",
    "model_evaluate = NuSVC(nu=0.1, probability= True)\n",
    "\n",
    "scoring = cross_val_score(model_evaluate, X_scale, Y, scoring = 'neg_log_loss')\n",
    "\n",
    "print((scoring.mean())*-1)\n",
    "print(scoring.std())"
   ]
  },
  {
   "cell_type": "markdown",
   "metadata": {},
   "source": [
    "### Report Scoring:\n",
    "\n",
    "#### Best Model: Logistic Regression\n",
    "#### Log- Loss : ~ 1.3216"
   ]
  },
  {
   "cell_type": "markdown",
   "metadata": {},
   "source": [
    "### Important Features:\n",
    "#### 1. APM\n",
    "#### 2. AUM\n",
    "#### 3. AUV\n",
    "#### 4. AMI\n",
    "#### 5. AVI\n",
    "#### 6. WORKERS"
   ]
  },
  {
   "cell_type": "code",
   "execution_count": null,
   "metadata": {
    "collapsed": true
   },
   "outputs": [],
   "source": []
  }
 ],
 "metadata": {
  "kernelspec": {
   "display_name": "Python [Root]",
   "language": "python",
   "name": "Python [Root]"
  },
  "language_info": {
   "codemirror_mode": {
    "name": "ipython",
    "version": 3
   },
   "file_extension": ".py",
   "mimetype": "text/x-python",
   "name": "python",
   "nbconvert_exporter": "python",
   "pygments_lexer": "ipython3",
   "version": "3.5.2"
  }
 },
 "nbformat": 4,
 "nbformat_minor": 0
}
